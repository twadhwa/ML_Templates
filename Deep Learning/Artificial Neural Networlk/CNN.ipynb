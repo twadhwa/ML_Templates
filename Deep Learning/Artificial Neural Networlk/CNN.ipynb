{
  "nbformat": 4,
  "nbformat_minor": 0,
  "metadata": {
    "colab": {
      "name": "CNN.ipynb",
      "provenance": [],
      "mount_file_id": "1Doaur2H358Ovz9om8FGe7a2L0kvjjRgI",
      "authorship_tag": "ABX9TyPYnmeymXivvXBAG9WuTwVp",
      "include_colab_link": true
    },
    "kernelspec": {
      "name": "python3",
      "display_name": "Python 3"
    },
    "language_info": {
      "name": "python"
    },
    "accelerator": "GPU"
  },
  "cells": [
    {
      "cell_type": "markdown",
      "metadata": {
        "id": "view-in-github",
        "colab_type": "text"
      },
      "source": [
        "<a href=\"https://colab.research.google.com/github/twadhwa/ML_Templates/blob/main/Deep%20Learning/Artificial%20Neural%20Networlk/CNN.ipynb\" target=\"_parent\"><img src=\"https://colab.research.google.com/assets/colab-badge.svg\" alt=\"Open In Colab\"/></a>"
      ]
    },
    {
      "cell_type": "code",
      "metadata": {
        "id": "Ck2idOx4QVnu"
      },
      "source": [
        "import tensorflow as tf\n",
        "from keras.preprocessing.image import ImageDataGenerator \n"
      ],
      "execution_count": null,
      "outputs": []
    },
    {
      "cell_type": "code",
      "metadata": {
        "colab": {
          "base_uri": "https://localhost:8080/"
        },
        "id": "7SMcm_LzG79F",
        "outputId": "81a5636c-50c2-435c-9d9d-8bcbb8a65a9d"
      },
      "source": [
        "from google.colab import drive\n",
        "drive.mount('/content/drive')"
      ],
      "execution_count": null,
      "outputs": [
        {
          "output_type": "stream",
          "text": [
            "Drive already mounted at /content/drive; to attempt to forcibly remount, call drive.mount(\"/content/drive\", force_remount=True).\n"
          ],
          "name": "stdout"
        }
      ]
    },
    {
      "cell_type": "code",
      "metadata": {
        "id": "yL83GKGYS5ka",
        "colab": {
          "base_uri": "https://localhost:8080/"
        },
        "outputId": "39f578a8-c4ba-4f22-fb9c-dc2d4a358b3b"
      },
      "source": [
        "print(\"hello world\")"
      ],
      "execution_count": null,
      "outputs": [
        {
          "output_type": "stream",
          "text": [
            "hello world\n"
          ],
          "name": "stdout"
        }
      ]
    },
    {
      "cell_type": "code",
      "metadata": {
        "id": "Wc6CzYvLS8Qe",
        "colab": {
          "base_uri": "https://localhost:8080/",
          "height": 36
        },
        "outputId": "3d6d8afc-1386-4c26-8a17-e6710290a1d7"
      },
      "source": [
        "tf.__version__"
      ],
      "execution_count": null,
      "outputs": [
        {
          "output_type": "execute_result",
          "data": {
            "application/vnd.google.colaboratory.intrinsic+json": {
              "type": "string"
            },
            "text/plain": [
              "'2.5.0'"
            ]
          },
          "metadata": {
            "tags": []
          },
          "execution_count": 22
        }
      ]
    },
    {
      "cell_type": "code",
      "metadata": {
        "id": "bAnSYOEXTGDq",
        "colab": {
          "base_uri": "https://localhost:8080/"
        },
        "outputId": "a87c6188-305c-4d2f-bc74-831fb4e37d08"
      },
      "source": [
        "print(\"GPU\", \"available (YESSSS!!!!!)\" if tf.config.list_physical_devices(\"GPU\") else \"not available :(\")\n",
        "  "
      ],
      "execution_count": null,
      "outputs": [
        {
          "output_type": "stream",
          "text": [
            "GPU available (YESSSS!!!!!)\n"
          ],
          "name": "stdout"
        }
      ]
    },
    {
      "cell_type": "code",
      "metadata": {
        "colab": {
          "base_uri": "https://localhost:8080/"
        },
        "id": "Vkjkl6GAJmMB",
        "outputId": "fa7d8864-38ad-40b3-dc64-ffd38552ec1e"
      },
      "source": [
        "# Preprocessing of the train set \n",
        "# image agumentation \n",
        "# Gemeotrial Transformation  \n",
        "train_datagen = ImageDataGenerator(\n",
        "        # Feature scaling \n",
        "        rescale=1./255,\n",
        "\n",
        "        shear_range=0.2,\n",
        "        zoom_range=0.2,\n",
        "        horizontal_flip=True)\n",
        "\n",
        "train_set = train_datagen.flow_from_directory(\n",
        "        '/content/drive/MyDrive/Machine Learning Data Sets /Deep Learning /Convolutional Neural Netowork /Section 40 - Convolutional Neural Networks (CNN)/dataset/training_set',\n",
        "\n",
        "        # Final size of the image \n",
        "        target_size=(64, 64),\n",
        "\n",
        "\n",
        "        batch_size=32,\n",
        "        class_mode='binary')"
      ],
      "execution_count": null,
      "outputs": [
        {
          "output_type": "stream",
          "text": [
            "Found 8000 images belonging to 2 classes.\n"
          ],
          "name": "stdout"
        }
      ]
    },
    {
      "cell_type": "code",
      "metadata": {
        "colab": {
          "base_uri": "https://localhost:8080/"
        },
        "id": "0ZRpjiPjJ2cS",
        "outputId": "60bc3907-4d3e-4171-e35d-d06117031ee3"
      },
      "source": [
        "test_datagen = ImageDataGenerator(rescale = 1./255)\n",
        "test_set = test_datagen.flow_from_directory('/content/drive/MyDrive/Machine Learning Data Sets /Deep Learning /Convolutional Neural Netowork /Section 40 - Convolutional Neural Networks (CNN)/dataset/test_set',\n",
        "                                            target_size = (64, 64),\n",
        "                                            batch_size = 32,\n",
        "                                            class_mode = 'binary')"
      ],
      "execution_count": null,
      "outputs": [
        {
          "output_type": "stream",
          "text": [
            "Found 2000 images belonging to 2 classes.\n"
          ],
          "name": "stdout"
        }
      ]
    },
    {
      "cell_type": "code",
      "metadata": {
        "id": "P1C_9cgEVzjX"
      },
      "source": [
        "cnn = tf.keras.models.Sequential()"
      ],
      "execution_count": null,
      "outputs": []
    },
    {
      "cell_type": "markdown",
      "metadata": {
        "id": "MREPyS0wXrQj"
      },
      "source": [
        "## Convolution "
      ]
    },
    {
      "cell_type": "code",
      "metadata": {
        "id": "bSOhiCGrWECG"
      },
      "source": [
        "cnn.add(tf.keras.layers.Conv2D(filters=32, kernel_size=3, activation='relu', input_shape=[64, 64, 3]))\n",
        "# filters means number of feature detector \n",
        "# activation is the rectifier function \n",
        "# input shape is the shape "
      ],
      "execution_count": null,
      "outputs": []
    },
    {
      "cell_type": "markdown",
      "metadata": {
        "id": "Z5isCRGWXxzV"
      },
      "source": [
        "## Pooling "
      ]
    },
    {
      "cell_type": "code",
      "metadata": {
        "id": "yAQWpxiGXnXk"
      },
      "source": [
        "# Applying max pooling onto our model \n",
        "cnn.add(tf.keras.layers.MaxPool2D(pool_size=2, strides=2))\n",
        "# pool_size is the pixel from which we will get the maximum pixel of our image 2*2 is the size that we choose \n",
        "# strides means the how much we slide from our first frame to go our next frame "
      ],
      "execution_count": null,
      "outputs": []
    },
    {
      "cell_type": "markdown",
      "metadata": {
        "id": "v6l15XqbZeWj"
      },
      "source": [
        "## Adding the second layer in our model "
      ]
    },
    {
      "cell_type": "code",
      "metadata": {
        "id": "z63bHf_WZTxJ"
      },
      "source": [
        "cnn.add(tf.keras.layers.Conv2D(filters=32, kernel_size=3, activation='relu'))\n",
        "cnn.add(tf.keras.layers.MaxPool2D(pool_size=2, strides=2))\n",
        "\n",
        "# We just the remove the input layer because we have done it once "
      ],
      "execution_count": null,
      "outputs": []
    },
    {
      "cell_type": "code",
      "metadata": {
        "colab": {
          "base_uri": "https://localhost:8080/"
        },
        "id": "GxrFTgE5ZiZp",
        "outputId": "df53bc9e-042b-42cb-b7e2-007b3bc9158d"
      },
      "source": [
        "# Flattening \n",
        "cnn.add(tf.keras.layers.Flatten())\n",
        "\n",
        "# Full connection \n",
        "# units is the number of neuron that we want in the layer \n",
        "cnn.add(tf.keras.layers.Dense(units=128, activation='relu'))\n",
        "cnn.add(tf.keras.layers.Dense(units=1, activation='sigmoid'))\n",
        "cnn.compile(optimizer = 'adam', loss = 'binary_crossentropy', metrics = ['accuracy'])\n",
        "cnn.fit(x = train_set, validation_data = test_set, epochs = 25)"
      ],
      "execution_count": null,
      "outputs": [
        {
          "output_type": "stream",
          "text": [
            "Epoch 1/25\n",
            "250/250 [==============================] - 2541s 10s/step - loss: 0.6889 - accuracy: 0.5443 - val_loss: 0.6725 - val_accuracy: 0.6300\n",
            "Epoch 2/25\n",
            "250/250 [==============================] - 41s 163ms/step - loss: 0.6544 - accuracy: 0.6432 - val_loss: 0.6262 - val_accuracy: 0.6840\n",
            "Epoch 3/25\n",
            "250/250 [==============================] - 42s 168ms/step - loss: 0.6282 - accuracy: 0.6579 - val_loss: 0.6086 - val_accuracy: 0.6840\n",
            "Epoch 4/25\n",
            "250/250 [==============================] - 41s 164ms/step - loss: 0.6078 - accuracy: 0.6879 - val_loss: 0.5800 - val_accuracy: 0.7115\n",
            "Epoch 5/25\n",
            "250/250 [==============================] - 43s 170ms/step - loss: 0.5898 - accuracy: 0.6999 - val_loss: 0.5705 - val_accuracy: 0.7135\n",
            "Epoch 6/25\n",
            "250/250 [==============================] - 40s 161ms/step - loss: 0.5625 - accuracy: 0.7232 - val_loss: 0.5529 - val_accuracy: 0.7350\n",
            "Epoch 7/25\n",
            "250/250 [==============================] - 42s 167ms/step - loss: 0.5393 - accuracy: 0.7359 - val_loss: 0.5439 - val_accuracy: 0.7465\n",
            "Epoch 8/25\n",
            "250/250 [==============================] - 40s 161ms/step - loss: 0.5180 - accuracy: 0.7483 - val_loss: 0.5129 - val_accuracy: 0.7560\n",
            "Epoch 9/25\n",
            "250/250 [==============================] - 41s 162ms/step - loss: 0.4917 - accuracy: 0.7684 - val_loss: 0.5017 - val_accuracy: 0.7600\n",
            "Epoch 10/25\n",
            "250/250 [==============================] - 42s 167ms/step - loss: 0.4667 - accuracy: 0.7822 - val_loss: 0.5153 - val_accuracy: 0.7635\n",
            "Epoch 11/25\n",
            "250/250 [==============================] - 40s 159ms/step - loss: 0.4523 - accuracy: 0.7920 - val_loss: 0.5420 - val_accuracy: 0.7335\n",
            "Epoch 12/25\n",
            "250/250 [==============================] - 42s 167ms/step - loss: 0.4358 - accuracy: 0.8025 - val_loss: 0.4871 - val_accuracy: 0.7820\n",
            "Epoch 13/25\n",
            "250/250 [==============================] - 41s 163ms/step - loss: 0.4189 - accuracy: 0.8121 - val_loss: 0.4634 - val_accuracy: 0.7995\n",
            "Epoch 14/25\n",
            "250/250 [==============================] - 42s 166ms/step - loss: 0.4073 - accuracy: 0.8195 - val_loss: 0.4702 - val_accuracy: 0.7835\n",
            "Epoch 15/25\n",
            "250/250 [==============================] - 39s 157ms/step - loss: 0.3925 - accuracy: 0.8269 - val_loss: 0.4716 - val_accuracy: 0.7820\n",
            "Epoch 16/25\n",
            "250/250 [==============================] - 41s 165ms/step - loss: 0.3705 - accuracy: 0.8419 - val_loss: 0.4817 - val_accuracy: 0.7795\n",
            "Epoch 17/25\n",
            "250/250 [==============================] - 40s 162ms/step - loss: 0.3614 - accuracy: 0.8426 - val_loss: 0.4849 - val_accuracy: 0.7810\n",
            "Epoch 18/25\n",
            "250/250 [==============================] - 40s 160ms/step - loss: 0.3488 - accuracy: 0.8512 - val_loss: 0.4986 - val_accuracy: 0.7770\n",
            "Epoch 19/25\n",
            "250/250 [==============================] - 41s 165ms/step - loss: 0.3331 - accuracy: 0.8594 - val_loss: 0.4747 - val_accuracy: 0.7935\n",
            "Epoch 20/25\n",
            "250/250 [==============================] - 40s 159ms/step - loss: 0.3258 - accuracy: 0.8658 - val_loss: 0.5502 - val_accuracy: 0.7630\n",
            "Epoch 21/25\n",
            "250/250 [==============================] - 42s 167ms/step - loss: 0.3023 - accuracy: 0.8758 - val_loss: 0.5560 - val_accuracy: 0.7640\n",
            "Epoch 22/25\n",
            "250/250 [==============================] - 40s 160ms/step - loss: 0.3004 - accuracy: 0.8766 - val_loss: 0.5341 - val_accuracy: 0.7865\n",
            "Epoch 23/25\n",
            "250/250 [==============================] - 41s 164ms/step - loss: 0.2779 - accuracy: 0.8881 - val_loss: 0.5383 - val_accuracy: 0.7765\n",
            "Epoch 24/25\n",
            "250/250 [==============================] - 39s 157ms/step - loss: 0.2624 - accuracy: 0.8946 - val_loss: 0.5705 - val_accuracy: 0.7805\n",
            "Epoch 25/25\n",
            "250/250 [==============================] - 41s 164ms/step - loss: 0.2521 - accuracy: 0.8999 - val_loss: 0.6187 - val_accuracy: 0.7745\n"
          ],
          "name": "stdout"
        },
        {
          "output_type": "execute_result",
          "data": {
            "text/plain": [
              "<tensorflow.python.keras.callbacks.History at 0x7f7f4196be10>"
            ]
          },
          "metadata": {
            "tags": []
          },
          "execution_count": 17
        }
      ]
    },
    {
      "cell_type": "code",
      "metadata": {
        "colab": {
          "base_uri": "https://localhost:8080/",
          "height": 1000
        },
        "id": "XFG57in2Z6y0",
        "outputId": "32cc5006-6a06-4d9d-9342-dee2ebfaab1f"
      },
      "source": [
        "cat = \"/content/drive/MyDrive/Machine Learning Data Sets /Deep Learning /Convolutional Neural Netowork /Section 40 - Convolutional Neural Networks (CNN)/dataset/single_prediction/cat_or_dog_2.jpg\"\n",
        "dog = \"/content/drive/MyDrive/Machine Learning Data Sets /Deep Learning /Convolutional Neural Netowork /Section 40 - Convolutional Neural Networks (CNN)/dataset/single_prediction/cat_or_dog_1.jpg\"\n",
        "import numpy as np\n",
        "from keras.preprocessing import image\n",
        "# Only a single prediction \n",
        "test_image = image.load_img (dog,target_size = (64, 64))\n",
        "test_image = image.img_to_array(test_image)\n",
        "\n",
        "# We are expanding the dimension of our image and adding the batch dimesions \n",
        "test_image = np.expand_dims(test_image, axis = 0)\n",
        "result = cnn.predict(test_image)\n",
        "\n",
        "train_set.class_indices\n",
        "print(result[0][0])\n",
        "\n",
        "\n",
        "\"\"\"if result[0][0] == 0:\n",
        "  prediction = 'cat'\n",
        "else:\n",
        "  prediction = 'dog'\"\"\""
      ],
      "execution_count": null,
      "outputs": [
        {
          "output_type": "stream",
          "text": [
            "[[[ 0.          0.          0.         ...  0.          0.\n",
            "    2.082056  ]\n",
            "  [ 0.          0.          2.4816473  ...  0.          0.\n",
            "    0.        ]\n",
            "  [ 0.          0.          0.4711051  ...  0.          0.\n",
            "    1.0728562 ]\n",
            "  ...\n",
            "  [ 0.          0.          0.         ...  2.982431    0.\n",
            "    8.3663845 ]\n",
            "  [ 0.          0.          0.         ...  0.          0.\n",
            "   13.953532  ]\n",
            "  [ 0.          0.          0.         ...  0.          0.\n",
            "    9.0487    ]]\n",
            "\n",
            " [[ 0.          0.          1.4268111  ...  0.          0.\n",
            "    0.        ]\n",
            "  [ 0.          0.          3.7509525  ...  0.          0.\n",
            "    0.        ]\n",
            "  [ 0.          0.          0.         ...  0.          0.\n",
            "    1.5200818 ]\n",
            "  ...\n",
            "  [ 0.          0.          0.         ...  0.          1.2652946\n",
            "    3.345539  ]\n",
            "  [ 0.          0.          0.         ...  0.          0.\n",
            "   10.736234  ]\n",
            "  [ 0.          0.          0.         ...  0.          0.\n",
            "    7.4700713 ]]\n",
            "\n",
            " [[ 0.          0.          0.         ...  0.          0.\n",
            "    3.1345384 ]\n",
            "  [ 0.          0.          0.         ...  0.          0.\n",
            "    4.645746  ]\n",
            "  [ 0.          0.          0.         ...  0.          0.\n",
            "    1.0874603 ]\n",
            "  ...\n",
            "  [ 0.          0.          0.         ...  0.          0.\n",
            "    0.        ]\n",
            "  [ 0.          0.          0.         ...  0.          0.\n",
            "    4.4931    ]\n",
            "  [ 0.          0.          0.         ...  0.          0.\n",
            "    4.2040873 ]]\n",
            "\n",
            " ...\n",
            "\n",
            " [[ 0.          0.          0.         ...  0.          0.\n",
            "    1.640858  ]\n",
            "  [ 0.          0.          0.         ...  0.          0.\n",
            "    2.0423357 ]\n",
            "  [ 0.         10.891405    0.         ... 10.159742    0.\n",
            "    9.504847  ]\n",
            "  ...\n",
            "  [ 0.          0.          0.         ...  0.          0.\n",
            "   10.329161  ]\n",
            "  [ 0.          0.          0.         ...  0.          0.\n",
            "    2.9210134 ]\n",
            "  [ 0.          0.          0.         ...  0.          0.\n",
            "    9.67906   ]]\n",
            "\n",
            " [[ 0.          0.          0.         ...  0.          0.\n",
            "    1.3060904 ]\n",
            "  [ 0.          0.          0.         ...  0.          0.\n",
            "    3.144956  ]\n",
            "  [ 0.          0.          0.         ...  0.          0.\n",
            "    2.5836623 ]\n",
            "  ...\n",
            "  [ 0.          0.          0.         ...  0.          0.\n",
            "   13.787842  ]\n",
            "  [ 0.          0.          0.         ...  0.          0.\n",
            "    6.650424  ]\n",
            "  [ 0.          0.          0.         ...  0.          0.\n",
            "    0.27521992]]\n",
            "\n",
            " [[ 0.          0.          0.         ...  0.          0.\n",
            "    1.7961428 ]\n",
            "  [ 0.          0.          0.         ...  0.          0.\n",
            "    2.2931201 ]\n",
            "  [ 0.          0.          0.         ...  0.          0.\n",
            "    0.3127357 ]\n",
            "  ...\n",
            "  [ 0.          0.          0.         ...  0.          0.\n",
            "   17.577465  ]\n",
            "  [ 0.          0.          0.         ...  0.          0.\n",
            "   10.758368  ]\n",
            "  [ 0.          0.          0.         ...  0.          0.\n",
            "    0.        ]]]\n"
          ],
          "name": "stdout"
        },
        {
          "output_type": "execute_result",
          "data": {
            "application/vnd.google.colaboratory.intrinsic+json": {
              "type": "string"
            },
            "text/plain": [
              "\"if result[0][0] == 0:\\n  prediction = 'cat'\\nelse:\\n  prediction = 'dog'\""
            ]
          },
          "metadata": {
            "tags": []
          },
          "execution_count": 65
        }
      ]
    },
    {
      "cell_type": "code",
      "metadata": {
        "id": "zcikLdEzn8T7"
      },
      "source": [
        "|\n"
      ],
      "execution_count": null,
      "outputs": []
    }
  ]
}